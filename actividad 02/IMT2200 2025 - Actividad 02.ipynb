{
 "cells": [
  {
   "cell_type": "markdown",
   "id": "a6311079",
   "metadata": {},
   "source": [
    "# <img style=\"float: left; padding-right: 20px; width: 200px\" src=\"https://raw.githubusercontent.com/raxlab/imt2200-data/main/media/logo.jpg\">  IMT 2200 - Introducción a Ciencia de Datos\n",
    "**Pontificia Universidad Católica de Chile**<br>\n",
    "**Instituto de Ingeniería Matemática y Computacional**<br>\n",
    "**Semestre 2025-S2**<br>\n",
    "**Profesor:** Rodrigo A. Carrasco <br>"
   ]
  },
  {
   "cell_type": "markdown",
   "id": "5ea9347c",
   "metadata": {},
   "source": [
    "# <h1><center>Actividad 02: Extracción y Revisión de Datos</center></h1>\n",
    "\n",
    "Esta actividad busca aplicar lo que acabamos de ver en clases sobre extracción de datos y conectarlo con la materia de \"Tipos de Datos\" que hemos visto en las clases pasadas."
   ]
  },
  {
   "cell_type": "markdown",
   "id": "a2c54596",
   "metadata": {},
   "source": [
    "## Instrucciones\n",
    "\n",
    "Esto Notebook contiene las instrucciones a realizar para la actividad. \n",
    "\n",
    "<b>Al finalizarla, deben subir el Notebook y los archivos generados en un único archivo .zip, al módulo de la Actividad 02 en Canvas.</b>\n",
    "\n",
    "Para esta actividad deben hacer lo siguiente:\n",
    "<ol>\n",
    "<li>Extraer datos</li>\n",
    "\n",
    "Para esta actividad usaremos [**PokeAPI**](https://pokeapi.co/about), una interfaz de código abierto con información detallada relacionada a los videojuegos de Pokémon.\n",
    "    \n",
    "En esta actividad nos concentraremos en comparar las características básicas de los 151 pokémon originales. Para obtener la información de un pokémon, utilizaremos el siguiente URL:\n",
    "\n",
    "```\n",
    "https://pokeapi.co/api/v2/pokemon/{id_pokemon}\n",
    "```\n",
    "\n",
    "Donde `{id_pokemon}` es el identificador del pokémon (un número entero). \n",
    "    \n",
    "<br>\n",
    "\n",
    "<li>Formato</li>\n",
    "\n",
    "¿En qué formato están los datos descargados? Identifique si son datos estructurados, semi-estructurados o no estructurados, explicando claramente por qué los categoriza así.\n",
    "\n",
    "<br>\n",
    "    \n",
    "<li>DataFrame de análisis</li>\n",
    "\n",
    "Construya un DataFrame con al menos las siguientes columnas: `name, type1, type2, hp, attack, defense, special-attack, special-defense, speed`. En caso de que un pokémon tenga solo un tipo, puede dejar su atributo `type2 = None`. Guarde este nuevo set de datos en un archivo CSV.\n",
    "\n",
    "**Hint:** Inspeccione el atributo `stats` y `types` de las respuestas obtenidas. El valor que debe almacenar en el DataFrame estará bajó el nombre `base_stat`.\n",
    "    \n",
    "<br>\n",
    "    \n",
    "<li>Preguntas</li>\n",
    "\n",
    "A partir de su nuevo dataset, responda las siguientes preguntas:\n",
    "\n",
    "4.1 ¿Cuál son los 3 tipos (fuego, agua, tierra, etc.) más comunes en los pokémones de la primera generación?\n",
    "    \n",
    "4.2 ¿Cuál es el pokémon más rápido? ¿Y el más lento?\n",
    "\n",
    "4.3 Genere una nueva columna en el DataFrame llamada `total-stats` que consista en la suma de todos los stats de un pokémon (`hp, attack, defense, special-attack, special-defense, speed`) y grafique un histograma de esta nueva variable. ¿Cuál es el rango de valores"
   ]
  },
  {
   "cell_type": "markdown",
   "id": "f66e4487",
   "metadata": {},
   "source": [
    "## Rúbrica\n",
    "\n",
    "- Si han hecho todo y sólo hay errores menores: 7.0\n",
    "- Si sólo llegaron hasta la parte 3: 5.0\n",
    "- Menos que eso: 1.0"
   ]
  },
  {
   "cell_type": "markdown",
   "id": "c6494636",
   "metadata": {},
   "source": [
    "## 1. Extraer datos\n",
    "\n",
    "Utilizando el URL indicado en el enunciado, obtenga la información de los primeros 151 pokémones y guárdelos en una lista llamada `pokemones`. \n",
    "\n",
    "Para ello debe usar un `for` que itere sobre los diferentes IDs de pokemon y rescate la información de cada uno de ellos, concatenándola en una lista. Antes de iterar sobre los 151 pokemones, pruebe con 1 o 2 y una vez que verifique que su código está funcionando, aplique a los 151 primeros pokemones."
   ]
  },
  {
   "cell_type": "code",
   "execution_count": 122,
   "id": "c92f4791",
   "metadata": {},
   "outputs": [],
   "source": [
    "import requests\n"
   ]
  },
  {
   "cell_type": "code",
   "execution_count": 123,
   "id": "10ae0139",
   "metadata": {},
   "outputs": [],
   "source": [
    "url_base = \"https://pokeapi.co/api/v2/pokemon/\" # URL base de la API\n",
    "pokemones = [] # Inicializar lista para almacenar los datos de los pokémones"
   ]
  },
  {
   "cell_type": "code",
   "execution_count": 124,
   "id": "1b24d932",
   "metadata": {},
   "outputs": [
    {
     "name": "stdout",
     "output_type": "stream",
     "text": [
      "1. EXTRAYENDO DATOS DE POKÉMON...\n",
      "Probando con 2 pokémones primero...\n",
      "Pokémon 1 (bulbasaur) extraído exitosamente\n",
      "Pokémon 2 (ivysaur) extraído exitosamente\n",
      "\n",
      "Se extrajeron 2 pokémones de prueba\n"
     ]
    }
   ],
   "source": [
    "print(\"1. EXTRAYENDO DATOS DE POKÉMON...\")\n",
    "\n",
    "# Probarcon 2 pokémones para verificar que funciona la conexion con la API\n",
    "print(\"Probando con 2 pokémones primero...\")\n",
    "for i in range(1, 3):\n",
    "    try:\n",
    "        url = f\"{url_base}{i}\"\n",
    "        response = requests.get(url) # peticion GET a la URL con requests\n",
    "        if response.status_code == 200:\n",
    "            pokemon_data = response.json() # convertimos la respuesta a JSON para poder manejar los datos\n",
    "            pokemones.append(pokemon_data) # agregamos los datos al final de la lista\n",
    "            print(f\"Pokémon {i} ({pokemon_data['name']}) extraído exitosamente\")\n",
    "        else:\n",
    "            print(f\"Error al extraer Pokémon {i}: {response.status_code}\")\n",
    "    except Exception as e:\n",
    "        print(f\"Error al procesar el pokémon {i}: {e}\")\n",
    " \n",
    "print(f\"\\nSe extrajeron {len(pokemones)} pokémones de prueba\") # Total de pokemones extraidos para testear"
   ]
  },
  {
   "cell_type": "code",
   "execution_count": 125,
   "id": "b383e04e",
   "metadata": {},
   "outputs": [
    {
     "name": "stdout",
     "output_type": "stream",
     "text": [
      "\n",
      "Extrayendo los 151 pokémones...\n",
      "Pokémon 1 (bulbasaur) extraído exitosamente\n",
      "Pokémon 2 (ivysaur) extraído exitosamente\n",
      "Pokémon 3 (venusaur) extraído exitosamente\n",
      "Pokémon 4 (charmander) extraído exitosamente\n",
      "Pokémon 5 (charmeleon) extraído exitosamente\n",
      "Pokémon 6 (charizard) extraído exitosamente\n",
      "Pokémon 7 (squirtle) extraído exitosamente\n",
      "Pokémon 8 (wartortle) extraído exitosamente\n",
      "Pokémon 9 (blastoise) extraído exitosamente\n",
      "Pokémon 10 (caterpie) extraído exitosamente\n",
      "Pokémon 11 (metapod) extraído exitosamente\n",
      "Pokémon 12 (butterfree) extraído exitosamente\n",
      "Pokémon 13 (weedle) extraído exitosamente\n",
      "Pokémon 14 (kakuna) extraído exitosamente\n",
      "Pokémon 15 (beedrill) extraído exitosamente\n",
      "Pokémon 16 (pidgey) extraído exitosamente\n",
      "Pokémon 17 (pidgeotto) extraído exitosamente\n",
      "Pokémon 18 (pidgeot) extraído exitosamente\n",
      "Pokémon 19 (rattata) extraído exitosamente\n",
      "Pokémon 20 (raticate) extraído exitosamente\n",
      "Pokémon 21 (spearow) extraído exitosamente\n",
      "Pokémon 22 (fearow) extraído exitosamente\n",
      "Pokémon 23 (ekans) extraído exitosamente\n",
      "Pokémon 24 (arbok) extraído exitosamente\n",
      "Pokémon 25 (pikachu) extraído exitosamente\n",
      "Pokémon 26 (raichu) extraído exitosamente\n",
      "Pokémon 27 (sandshrew) extraído exitosamente\n",
      "Pokémon 28 (sandslash) extraído exitosamente\n",
      "Pokémon 29 (nidoran-f) extraído exitosamente\n",
      "Pokémon 30 (nidorina) extraído exitosamente\n",
      "Pokémon 31 (nidoqueen) extraído exitosamente\n",
      "Pokémon 32 (nidoran-m) extraído exitosamente\n",
      "Pokémon 33 (nidorino) extraído exitosamente\n",
      "Pokémon 34 (nidoking) extraído exitosamente\n",
      "Pokémon 35 (clefairy) extraído exitosamente\n",
      "Pokémon 36 (clefable) extraído exitosamente\n",
      "Pokémon 37 (vulpix) extraído exitosamente\n",
      "Pokémon 38 (ninetales) extraído exitosamente\n",
      "Pokémon 39 (jigglypuff) extraído exitosamente\n",
      "Pokémon 40 (wigglytuff) extraído exitosamente\n",
      "Pokémon 41 (zubat) extraído exitosamente\n",
      "Pokémon 42 (golbat) extraído exitosamente\n",
      "Pokémon 43 (oddish) extraído exitosamente\n",
      "Pokémon 44 (gloom) extraído exitosamente\n",
      "Pokémon 45 (vileplume) extraído exitosamente\n",
      "Pokémon 46 (paras) extraído exitosamente\n",
      "Pokémon 47 (parasect) extraído exitosamente\n",
      "Pokémon 48 (venonat) extraído exitosamente\n",
      "Pokémon 49 (venomoth) extraído exitosamente\n",
      "Pokémon 50 (diglett) extraído exitosamente\n",
      "Pokémon 51 (dugtrio) extraído exitosamente\n",
      "Pokémon 52 (meowth) extraído exitosamente\n",
      "Pokémon 53 (persian) extraído exitosamente\n",
      "Pokémon 54 (psyduck) extraído exitosamente\n",
      "Pokémon 55 (golduck) extraído exitosamente\n",
      "Pokémon 56 (mankey) extraído exitosamente\n",
      "Pokémon 57 (primeape) extraído exitosamente\n",
      "Pokémon 58 (growlithe) extraído exitosamente\n",
      "Pokémon 59 (arcanine) extraído exitosamente\n",
      "Pokémon 60 (poliwag) extraído exitosamente\n",
      "Pokémon 61 (poliwhirl) extraído exitosamente\n",
      "Pokémon 62 (poliwrath) extraído exitosamente\n",
      "Pokémon 63 (abra) extraído exitosamente\n",
      "Pokémon 64 (kadabra) extraído exitosamente\n",
      "Pokémon 65 (alakazam) extraído exitosamente\n",
      "Pokémon 66 (machop) extraído exitosamente\n",
      "Pokémon 67 (machoke) extraído exitosamente\n",
      "Pokémon 68 (machamp) extraído exitosamente\n",
      "Pokémon 69 (bellsprout) extraído exitosamente\n",
      "Pokémon 70 (weepinbell) extraído exitosamente\n",
      "Pokémon 71 (victreebel) extraído exitosamente\n",
      "Pokémon 72 (tentacool) extraído exitosamente\n",
      "Pokémon 73 (tentacruel) extraído exitosamente\n",
      "Pokémon 74 (geodude) extraído exitosamente\n",
      "Pokémon 75 (graveler) extraído exitosamente\n",
      "Pokémon 76 (golem) extraído exitosamente\n",
      "Pokémon 77 (ponyta) extraído exitosamente\n",
      "Pokémon 78 (rapidash) extraído exitosamente\n",
      "Pokémon 79 (slowpoke) extraído exitosamente\n",
      "Pokémon 80 (slowbro) extraído exitosamente\n",
      "Pokémon 81 (magnemite) extraído exitosamente\n",
      "Pokémon 82 (magneton) extraído exitosamente\n",
      "Pokémon 83 (farfetchd) extraído exitosamente\n",
      "Pokémon 84 (doduo) extraído exitosamente\n",
      "Pokémon 85 (dodrio) extraído exitosamente\n",
      "Pokémon 86 (seel) extraído exitosamente\n",
      "Pokémon 87 (dewgong) extraído exitosamente\n",
      "Pokémon 88 (grimer) extraído exitosamente\n",
      "Pokémon 89 (muk) extraído exitosamente\n",
      "Pokémon 90 (shellder) extraído exitosamente\n",
      "Pokémon 91 (cloyster) extraído exitosamente\n",
      "Pokémon 92 (gastly) extraído exitosamente\n",
      "Pokémon 93 (haunter) extraído exitosamente\n",
      "Pokémon 94 (gengar) extraído exitosamente\n",
      "Pokémon 95 (onix) extraído exitosamente\n",
      "Pokémon 96 (drowzee) extraído exitosamente\n",
      "Pokémon 97 (hypno) extraído exitosamente\n",
      "Pokémon 98 (krabby) extraído exitosamente\n",
      "Pokémon 99 (kingler) extraído exitosamente\n",
      "Pokémon 100 (voltorb) extraído exitosamente\n",
      "Pokémon 101 (electrode) extraído exitosamente\n",
      "Pokémon 102 (exeggcute) extraído exitosamente\n",
      "Pokémon 103 (exeggutor) extraído exitosamente\n",
      "Pokémon 104 (cubone) extraído exitosamente\n",
      "Pokémon 105 (marowak) extraído exitosamente\n",
      "Pokémon 106 (hitmonlee) extraído exitosamente\n",
      "Pokémon 107 (hitmonchan) extraído exitosamente\n",
      "Pokémon 108 (lickitung) extraído exitosamente\n",
      "Pokémon 109 (koffing) extraído exitosamente\n",
      "Pokémon 110 (weezing) extraído exitosamente\n",
      "Pokémon 111 (rhyhorn) extraído exitosamente\n",
      "Pokémon 112 (rhydon) extraído exitosamente\n",
      "Pokémon 113 (chansey) extraído exitosamente\n",
      "Pokémon 114 (tangela) extraído exitosamente\n",
      "Pokémon 115 (kangaskhan) extraído exitosamente\n",
      "Pokémon 116 (horsea) extraído exitosamente\n",
      "Pokémon 117 (seadra) extraído exitosamente\n",
      "Pokémon 118 (goldeen) extraído exitosamente\n",
      "Pokémon 119 (seaking) extraído exitosamente\n",
      "Pokémon 120 (staryu) extraído exitosamente\n",
      "Pokémon 121 (starmie) extraído exitosamente\n",
      "Pokémon 122 (mr-mime) extraído exitosamente\n",
      "Pokémon 123 (scyther) extraído exitosamente\n",
      "Pokémon 124 (jynx) extraído exitosamente\n",
      "Pokémon 125 (electabuzz) extraído exitosamente\n",
      "Pokémon 126 (magmar) extraído exitosamente\n",
      "Pokémon 127 (pinsir) extraído exitosamente\n",
      "Pokémon 128 (tauros) extraído exitosamente\n",
      "Pokémon 129 (magikarp) extraído exitosamente\n",
      "Pokémon 130 (gyarados) extraído exitosamente\n",
      "Pokémon 131 (lapras) extraído exitosamente\n",
      "Pokémon 132 (ditto) extraído exitosamente\n",
      "Pokémon 133 (eevee) extraído exitosamente\n",
      "Pokémon 134 (vaporeon) extraído exitosamente\n",
      "Pokémon 135 (jolteon) extraído exitosamente\n",
      "Pokémon 136 (flareon) extraído exitosamente\n",
      "Pokémon 137 (porygon) extraído exitosamente\n",
      "Pokémon 138 (omanyte) extraído exitosamente\n",
      "Pokémon 139 (omastar) extraído exitosamente\n",
      "Pokémon 140 (kabuto) extraído exitosamente\n",
      "Pokémon 141 (kabutops) extraído exitosamente\n",
      "Pokémon 142 (aerodactyl) extraído exitosamente\n",
      "Pokémon 143 (snorlax) extraído exitosamente\n",
      "Pokémon 144 (articuno) extraído exitosamente\n",
      "Pokémon 145 (zapdos) extraído exitosamente\n",
      "Pokémon 146 (moltres) extraído exitosamente\n",
      "Pokémon 147 (dratini) extraído exitosamente\n",
      "Pokémon 148 (dragonair) extraído exitosamente\n",
      "Pokémon 149 (dragonite) extraído exitosamente\n",
      "Pokémon 150 (mewtwo) extraído exitosamente\n",
      "Pokémon 151 (mew) extraído exitosamente\n",
      "\n",
      "Se extrajeron 151 pokémones exitosamente\n",
      "almacenados en la variable pokemones\n"
     ]
    }
   ],
   "source": [
    "# Ahora extraemos los 151 pokémones originales\n",
    "print(\"\\nExtrayendo los 151 pokémones...\")\n",
    "pokemones = []  # Reiniciamos la lista\n",
    "\n",
    "for i in range(1, 152):\n",
    "    try:\n",
    "        url = f\"{url_base}{i}\"\n",
    "        response = requests.get(url)\n",
    "        if response.status_code == 200:\n",
    "            pokemon_data = response.json()\n",
    "            pokemones.append(pokemon_data)\n",
    "            print(f\"Pokémon {i} ({pokemon_data['name']}) extraído exitosamente\")\n",
    "        else:\n",
    "            print(f\"Error al extraer Pokémon {i}: {response.status_code}\")\n",
    "    except Exception as e:\n",
    "        print(f\"Error al procesar el pokémon {i}: {e}\")\n",
    "\n",
    "print(f\"\\nSe extrajeron {len(pokemones)} pokémones exitosamente\") # imprimimos el total de pokemones extraidos\n",
    "print(f\"almacenados en la variable pokemones\")"
   ]
  },
  {
   "cell_type": "code",
   "execution_count": 126,
   "id": "c21068e6",
   "metadata": {},
   "outputs": [
    {
     "name": "stdout",
     "output_type": "stream",
     "text": [
      "\n",
      "Total de pokémones extraídos: 151\n",
      "Primer pokémon: bulbasaur\n",
      "\n",
      "Estructura del primer pokémon:\n",
      "Campos disponibles en un pokemon: ['abilities', 'base_experience', 'cries', 'forms', 'game_indices', 'height', 'held_items', 'id', 'is_default', 'location_area_encounters', 'moves', 'name', 'order', 'past_abilities', 'past_types', 'species', 'sprites', 'stats', 'types', 'weight']\n",
      "\n",
      "Ejemplo de la estructura de datos:\n",
      "Nombre: bulbasaur\n",
      "\n",
      "Tipos:\n",
      "grass\n",
      "\n",
      "Tipos:\n",
      "poison\n",
      "\n",
      "Stats:\n",
      "hp 45\n",
      "\n",
      "Stats:\n",
      "attack 49\n",
      "\n",
      "Stats:\n",
      "defense 49\n",
      "\n",
      "Stats:\n",
      "special-attack 65\n",
      "\n",
      "Stats:\n",
      "special-defense 65\n",
      "\n",
      "Stats:\n",
      "speed 45\n"
     ]
    }
   ],
   "source": [
    "# Verificar que se extrajeron los datos correctamente\n",
    "print(f\"\\nTotal de pokémones extraídos: {len(pokemones)}\") # Total de pokemones extraidos\n",
    "print(f\"Primer pokémon: {pokemones[0]['name']}\") # Nombre del primer pokémon\n",
    "print(f\"\\nEstructura del primer pokémon:\") # Estructura del primer pokémon\n",
    "print(f\"Campos disponibles en un pokemon: {list(pokemones[0].keys())}\") # Claves disponibles en los pokemones de la API\n",
    "\n",
    "# Mostrar ejemplo de la estructura de un pokémon\n",
    "print(\"\\nEjemplo de la estructura de datos:\") # Ejemplo de la estructura de datos\n",
    "print(f\"Nombre: {pokemones[0]['name']}\") # Nombre del primer pokémon\n",
    "\n",
    "\n",
    "for t in pokemones[0]['types']:\n",
    "    print(\"\\nTipos:\") # Tipos del primer pokémon\n",
    "    print(t['type']['name'])\n",
    "\n",
    "\n",
    "for s in pokemones[0]['stats']:\n",
    "    print(\"\\nStats:\") # Stats del primer pokémon\n",
    "    print(s['stat']['name'], s['base_stat'])\n"
   ]
  },
  {
   "cell_type": "markdown",
   "id": "fc8f49d7",
   "metadata": {},
   "source": [
    "## 2. Formato de datos\n",
    "\n",
    "Revise la lista que almacenó en `pokemones` y coméntenos en qué formato están los datos y qué tipos de datos serían estos (estructurados, semi-estructurados, no estructurados).\n",
    "\n",
    "Respuesta:"
   ]
  },
  {
   "cell_type": "code",
   "execution_count": 127,
   "id": "8fafb71c",
   "metadata": {},
   "outputs": [
    {
     "name": "stdout",
     "output_type": "stream",
     "text": [
      "Tipo: <class 'dict'>\n",
      "Es diccionario: True\n",
      "Es JSON válido: True\n"
     ]
    }
   ],
   "source": [
    "print(f\"Tipo: {type(pokemones[0])}\") # tipo de datos de la variable pokemones\n",
    "print(f\"Es diccionario: {isinstance(pokemones[0], dict)}\") # si es un diccionario\n",
    "print(f\"Es JSON válido: {isinstance(pokemones[0], (dict, list))}\") # si es un JSON válido"
   ]
  },
  {
   "cell_type": "markdown",
   "id": "c5b09ba8",
   "metadata": {},
   "source": [
    "Los datos extraídos de la PokeAPI están en formato JSON, por lo tanto deberian ser considerdos como un tipo de dato semi estructurado, \n",
    "ya que JSON mantiene una estructura definida con campos específicos (name, types, stats), \n",
    "pero permite flexibilidad y anidación de datos como listas de objetos dentro de otros objetos,\n",
    "características típicas de datos semi-estructurados que no siguen el formato rígido de tablas relacionales."
   ]
  },
  {
   "cell_type": "markdown",
   "id": "ff451ed0",
   "metadata": {},
   "source": [
    "## 3. DataFrame de análisis\n",
    "\n",
    "Construya ahor un DataFrame para poder analizar los datos posteriormente. Revise las columnas mínimas que debe tener según el enunciado inicial."
   ]
  },
  {
   "cell_type": "code",
   "execution_count": 128,
   "id": "facecb52",
   "metadata": {},
   "outputs": [],
   "source": [
    "import pandas as pd"
   ]
  },
  {
   "cell_type": "code",
   "execution_count": 129,
   "id": "79aa81ff",
   "metadata": {},
   "outputs": [
    {
     "name": "stdout",
     "output_type": "stream",
     "text": [
      "DataFrame creado exitosamente:\n",
      "Dimensiones: (151, 9)\n",
      "\n",
      "Primeras 5 filas:\n",
      "         name  type1   type2  hp  attack  defense  special-attack  \\\n",
      "0   bulbasaur  grass  poison  45      49       49              65   \n",
      "1     ivysaur  grass  poison  60      62       63              80   \n",
      "2    venusaur  grass  poison  80      82       83             100   \n",
      "3  charmander   fire    None  39      52       43              60   \n",
      "4  charmeleon   fire    None  58      64       58              80   \n",
      "\n",
      "   special-defense  speed  \n",
      "0               65     45  \n",
      "1               80     60  \n",
      "2              100     80  \n",
      "3               50     65  \n",
      "4               65     80  \n",
      "\n",
      "DataFrame guardado como 'pokemon_stats.csv'\n",
      "\n",
      "Información del DataFrame:\n",
      "<class 'pandas.core.frame.DataFrame'>\n",
      "RangeIndex: 151 entries, 0 to 150\n",
      "Data columns (total 9 columns):\n",
      " #   Column           Non-Null Count  Dtype \n",
      "---  ------           --------------  ----- \n",
      " 0   name             151 non-null    object\n",
      " 1   type1            151 non-null    object\n",
      " 2   type2            67 non-null     object\n",
      " 3   hp               151 non-null    int64 \n",
      " 4   attack           151 non-null    int64 \n",
      " 5   defense          151 non-null    int64 \n",
      " 6   special-attack   151 non-null    int64 \n",
      " 7   special-defense  151 non-null    int64 \n",
      " 8   speed            151 non-null    int64 \n",
      "dtypes: int64(6), object(3)\n",
      "memory usage: 10.7+ KB\n",
      "None\n",
      "\n",
      "Estadísticas descriptivas:\n",
      "               hp      attack     defense  special-attack  special-defense  \\\n",
      "count  151.000000  151.000000  151.000000      151.000000       151.000000   \n",
      "mean    64.211921   72.913907   68.225166       67.139073        66.086093   \n",
      "std     28.590117   26.755421   26.916704       28.534199        24.208797   \n",
      "min     10.000000    5.000000    5.000000       15.000000        20.000000   \n",
      "25%     45.000000   51.000000   50.000000       45.000000        49.000000   \n",
      "50%     60.000000   70.000000   65.000000       65.000000        65.000000   \n",
      "75%     80.000000   92.000000   84.000000       87.500000        80.000000   \n",
      "max    250.000000  134.000000  180.000000      154.000000       125.000000   \n",
      "\n",
      "            speed  \n",
      "count  151.000000  \n",
      "mean    69.066225  \n",
      "std     27.024598  \n",
      "min     15.000000  \n",
      "25%     46.500000  \n",
      "50%     70.000000  \n",
      "75%     90.000000  \n",
      "max    150.000000  \n"
     ]
    }
   ],
   "source": [
    "# Crear listas para almacenar los datos del DataFrame\n",
    "names = []\n",
    "type1s = []\n",
    "type2s = []\n",
    "hps = []\n",
    "attacks = []\n",
    "defenses = []\n",
    "special_attacks = []\n",
    "special_defenses = []\n",
    "speeds = []\n",
    "\n",
    "# Extraer datos de cada pokémon\n",
    "for pokemon in pokemones:\n",
    "    # Nombre\n",
    "    names.append(pokemon['name'])\n",
    "    \n",
    "    # Tipos\n",
    "    tipos = [t['type']['name'] for t in pokemon['types']]\n",
    "    type1s.append(tipos[0] if len(tipos) > 0 else None)\n",
    "    type2s.append(tipos[1] if len(tipos) > 1 else None)\n",
    "    \n",
    "    # Stats\n",
    "    stats_dict = {s['stat']['name']: s['base_stat'] for s in pokemon['stats']}\n",
    "    hps.append(stats_dict.get('hp', 0))\n",
    "    attacks.append(stats_dict.get('attack', 0))\n",
    "    defenses.append(stats_dict.get('defense', 0))\n",
    "    special_attacks.append(stats_dict.get('special-attack', 0))\n",
    "    special_defenses.append(stats_dict.get('special-defense', 0))\n",
    "    speeds.append(stats_dict.get('speed', 0))\n",
    "\n",
    "# Crear el DataFrame con los datos extraidos\n",
    "df_pokemon = pd.DataFrame({\n",
    "    'name': names,\n",
    "    'type1': type1s,\n",
    "    'type2': type2s,\n",
    "    'hp': hps,\n",
    "    'attack': attacks,\n",
    "    'defense': defenses,\n",
    "    'special-attack': special_attacks,\n",
    "    'special-defense': special_defenses,\n",
    "    'speed': speeds\n",
    "})\n",
    "\n",
    "print(\"DataFrame creado exitosamente:\") \n",
    "print(f\"Dimensiones: {df_pokemon.shape}\")\n",
    "print(\"\\nPrimeras 5 filas:\")\n",
    "print(df_pokemon.head())\n",
    "\n",
    "# Guardar el DataFrame en un archivo CSV\n",
    "df_pokemon.to_csv('pokemon_stats.csv', index=False)\n",
    "print(\"\\nDataFrame guardado como 'pokemon_stats.csv'\")\n",
    "\n",
    "# Mostrar información del DataFrame\n",
    "print(\"\\nInformación del DataFrame:\")\n",
    "print(df_pokemon.info())\n",
    "\n",
    "print(\"\\nEstadísticas descriptivas:\")\n",
    "print(df_pokemon.describe())"
   ]
  },
  {
   "cell_type": "markdown",
   "id": "afeb0222",
   "metadata": {},
   "source": [
    "## 4. Preguntas"
   ]
  },
  {
   "cell_type": "markdown",
   "id": "5e1dd5c3",
   "metadata": {},
   "source": [
    "#### 4.1 ¿Cuál son los 3 tipos (*water, fire, ground,* etc.) más comunes en los pokémones de la primera generación?"
   ]
  },
  {
   "cell_type": "code",
   "execution_count": 130,
   "id": "0c2f4a59",
   "metadata": {},
   "outputs": [
    {
     "name": "stdout",
     "output_type": "stream",
     "text": [
      "['grass', 'grass', 'grass', 'fire', 'fire', 'fire', 'water', 'water', 'water', 'bug', 'bug', 'bug', 'bug', 'bug', 'bug', 'normal', 'normal', 'normal', 'normal', 'normal', 'normal', 'normal', 'poison', 'poison', 'electric', 'electric', 'ground', 'ground', 'poison', 'poison', 'poison', 'poison', 'poison', 'poison', 'fairy', 'fairy', 'fire', 'fire', 'normal', 'normal', 'poison', 'poison', 'grass', 'grass', 'grass', 'bug', 'bug', 'bug', 'bug', 'ground', 'ground', 'normal', 'normal', 'water', 'water', 'fighting', 'fighting', 'fire', 'fire', 'water', 'water', 'water', 'psychic', 'psychic', 'psychic', 'fighting', 'fighting', 'fighting', 'grass', 'grass', 'grass', 'water', 'water', 'rock', 'rock', 'rock', 'fire', 'fire', 'water', 'water', 'electric', 'electric', 'normal', 'normal', 'normal', 'water', 'water', 'poison', 'poison', 'water', 'water', 'ghost', 'ghost', 'ghost', 'rock', 'psychic', 'psychic', 'water', 'water', 'electric', 'electric', 'grass', 'grass', 'ground', 'ground', 'fighting', 'fighting', 'normal', 'poison', 'poison', 'ground', 'ground', 'normal', 'grass', 'normal', 'water', 'water', 'water', 'water', 'water', 'water', 'psychic', 'bug', 'ice', 'electric', 'fire', 'bug', 'normal', 'water', 'water', 'water', 'normal', 'normal', 'water', 'electric', 'fire', 'normal', 'rock', 'rock', 'rock', 'rock', 'rock', 'normal', 'ice', 'electric', 'fire', 'dragon', 'dragon', 'dragon', 'psychic', 'psychic', 'poison', 'poison', 'poison', 'flying', 'flying', 'poison', 'poison', 'poison', 'flying', 'flying', 'flying', 'flying', 'flying', 'ground', 'ground', 'fairy', 'fairy', 'flying', 'flying', 'poison', 'poison', 'poison', 'grass', 'grass', 'poison', 'poison', 'fighting', 'poison', 'poison', 'poison', 'poison', 'poison', 'ground', 'ground', 'ground', 'psychic', 'psychic', 'steel', 'steel', 'flying', 'flying', 'flying', 'ice', 'ice', 'poison', 'poison', 'poison', 'ground', 'psychic', 'psychic', 'rock', 'rock', 'psychic', 'fairy', 'flying', 'psychic', 'flying', 'ice', 'water', 'water', 'water', 'water', 'flying', 'flying', 'flying', 'flying', 'flying']\n",
      "poison      33\n",
      "water       32\n",
      "normal      22\n",
      "flying      19\n",
      "grass       14\n",
      "psychic     14\n",
      "ground      14\n",
      "bug         12\n",
      "fire        12\n",
      "rock        11\n",
      "electric     9\n",
      "fighting     8\n",
      "fairy        5\n",
      "ice          5\n",
      "ghost        3\n",
      "dragon       3\n",
      "steel        2\n",
      "Name: count, dtype: int64\n"
     ]
    }
   ],
   "source": [
    "# 4.1 Tipos más comunes\n",
    "\n",
    "# Contar tipos \n",
    "tipos_combinados = df_pokemon['type1'].tolist() + df_pokemon['type2'].dropna().tolist()\n",
    "print(tipos_combinados) # tipos combinados\n",
    "conteo_tipos = pd.Series(tipos_combinados).value_counts()\n",
    "print(conteo_tipos) # conteo de tipos"
   ]
  },
  {
   "cell_type": "code",
   "execution_count": 131,
   "id": "5c12a705",
   "metadata": {},
   "outputs": [
    {
     "name": "stdout",
     "output_type": "stream",
     "text": [
      "Los 3 tipos más comunes en la primera generación son:\n",
      "poison    33\n",
      "water     32\n",
      "normal    22\n",
      "Name: count, dtype: int64\n",
      "\n",
      "Tipos más comunes solo considerando type1:\n",
      "type1\n",
      "water     28\n",
      "normal    22\n",
      "poison    14\n",
      "Name: count, dtype: int64\n"
     ]
    }
   ],
   "source": [
    "print(\"Los 3 tipos más comunes en la primera generación son:\")\n",
    "print(conteo_tipos.head(3))\n",
    "\n",
    "# También mostrar solo type1 para comparar\n",
    "print(\"\\nTipos más comunes solo considerando type1:\")\n",
    "print(df_pokemon['type1'].value_counts().head(3))\n",
    "\n"
   ]
  },
  {
   "cell_type": "markdown",
   "id": "16247f38",
   "metadata": {},
   "source": [
    "El tipo más común es: WATER (agua)"
   ]
  },
  {
   "cell_type": "markdown",
   "id": "584f524f",
   "metadata": {},
   "source": [
    "#### 4.2 ¿Cuál es el pokémon más rápido? ¿Y el más lento?"
   ]
  },
  {
   "cell_type": "code",
   "execution_count": 132,
   "id": "eb9227f3",
   "metadata": {},
   "outputs": [
    {
     "name": "stdout",
     "output_type": "stream",
     "text": [
      "La velocidad de los pokemones es: 0       45\n",
      "1       60\n",
      "2       80\n",
      "3       65\n",
      "4       80\n",
      "      ... \n",
      "146     50\n",
      "147     70\n",
      "148     80\n",
      "149    130\n",
      "150    100\n",
      "Name: speed, Length: 151, dtype: int64\n",
      "La velocidad máxima de los pokemones es: 150\n",
      "La velocidad mínima de los pokemones es: 15\n"
     ]
    }
   ],
   "source": [
    "# 4.2 Pokémon más rápido y más lento\n",
    "\n",
    "pokemon_speed = df_pokemon['speed'] # velocidad de los pokemones\n",
    "print(f\"La velocidad de los pokemones es: {pokemon_speed}\")\n",
    "\n",
    "pokemon_speed_max = pokemon_speed.max() # velocidad maxima de los pokemones\n",
    "print(f\"La velocidad máxima de los pokemones es: {pokemon_speed_max}\")\n",
    "\n",
    "pokemon_speed_min = pokemon_speed.min() # velocidad minima de los pokemones\n",
    "print(f\"La velocidad mínima de los pokemones es: {pokemon_speed_min}\")"
   ]
  },
  {
   "cell_type": "code",
   "execution_count": 133,
   "id": "20e2095d",
   "metadata": {},
   "outputs": [
    {
     "name": "stdout",
     "output_type": "stream",
     "text": [
      "           name     type1   type2   hp  attack  defense  special-attack  \\\n",
      "100   electrode  electric    None   60      50       70              80   \n",
      "134     jolteon  electric    None   65      65       60             110   \n",
      "141  aerodactyl      rock  flying   80     105       65              60   \n",
      "149      mewtwo   psychic    None  106     110       90             154   \n",
      "50      dugtrio    ground    None   35     100       50              50   \n",
      "\n",
      "     special-defense  speed  \n",
      "100               80    150  \n",
      "134               95    130  \n",
      "141               75    130  \n",
      "149               90    130  \n",
      "50                70    120  \n",
      "           name   type1    type2   hp  attack  defense  special-attack  \\\n",
      "78     slowpoke   water  psychic   90      65       65              40   \n",
      "38   jigglypuff  normal    fairy  115      45       20              45   \n",
      "73      geodude    rock   ground   40      80      100              30   \n",
      "45        paras     bug    grass   35      70       55              45   \n",
      "87       grimer  poison     None   80      80       50              40   \n",
      "110     rhyhorn  ground     rock   80      85       95              30   \n",
      "10      metapod     bug     None   50      20       55              25   \n",
      "42       oddish   grass   poison   45      50       55              75   \n",
      "46     parasect     bug    grass   60      95       80              60   \n",
      "79      slowbro   water  psychic   95      75      110             100   \n",
      "\n",
      "     special-defense  speed  \n",
      "78                40     15  \n",
      "38                25     20  \n",
      "73                30     20  \n",
      "45                55     25  \n",
      "87                50     25  \n",
      "110               30     25  \n",
      "10                25     30  \n",
      "42                65     30  \n",
      "46                80     30  \n",
      "79                80     30  \n"
     ]
    }
   ],
   "source": [
    "# mostrar los 10 pokemones mas rapidos\n",
    "print(df_pokemon.nlargest(10, 'speed').head())\n",
    "# mostrar los 10 pokemones mas lentos\n",
    "print(df_pokemon.nsmallest(10, 'speed'))"
   ]
  },
  {
   "cell_type": "code",
   "execution_count": 134,
   "id": "f3277e01",
   "metadata": {},
   "outputs": [
    {
     "name": "stdout",
     "output_type": "stream",
     "text": [
      "name               electrode\n",
      "type1               electric\n",
      "type2                   None\n",
      "hp                        60\n",
      "attack                    50\n",
      "defense                   70\n",
      "special-attack            80\n",
      "special-defense           80\n",
      "speed                    150\n",
      "Name: 100, dtype: object\n",
      "name               slowpoke\n",
      "type1                 water\n",
      "type2               psychic\n",
      "hp                       90\n",
      "attack                   65\n",
      "defense                  65\n",
      "special-attack           40\n",
      "special-defense          40\n",
      "speed                    15\n",
      "Name: 78, dtype: object\n"
     ]
    }
   ],
   "source": [
    "# mostrar el pokemon mas rapido\n",
    "print(df_pokemon.loc[df_pokemon['speed'].idxmax()])\n",
    "\n",
    "# mostrar el pokemon mas lento\n",
    "print(df_pokemon.loc[df_pokemon['speed'].idxmin()])"
   ]
  },
  {
   "cell_type": "code",
   "execution_count": 135,
   "id": "73678680",
   "metadata": {},
   "outputs": [
    {
     "name": "stdout",
     "output_type": "stream",
     "text": [
      "El pokemon mas rapido es: electrode\n",
      "La velocidad de electrode es: 150\n",
      "El pokemon mas lento es: slowpoke\n",
      "La velocidad de slowpoke es: 15\n"
     ]
    }
   ],
   "source": [
    "print(f\"El pokemon mas rapido es: {df_pokemon.loc[df_pokemon['speed'].idxmax()]['name']}\")\n",
    "print(f\"La velocidad de {df_pokemon.loc[df_pokemon['speed'].idxmax()]['name']} es: {df_pokemon.loc[df_pokemon['speed'].idxmax()]['speed']}\")\n",
    "\n",
    "\n",
    "print(f\"El pokemon mas lento es: {df_pokemon.loc[df_pokemon['speed'].idxmin()]['name']}\")\n",
    "print(f\"La velocidad de {df_pokemon.loc[df_pokemon['speed'].idxmin()]['name']} es: {df_pokemon.loc[df_pokemon['speed'].idxmin()]['speed']}\")"
   ]
  },
  {
   "cell_type": "markdown",
   "id": "9940aedb",
   "metadata": {},
   "source": [
    "El pokémon más rápido es: Electrode"
   ]
  },
  {
   "cell_type": "markdown",
   "id": "3212213a",
   "metadata": {},
   "source": [
    "#### 4.3 Genere una nueva columna en el DataFrame llamada `total-stats` que consista en la suma de todos los stats de un pokémon (`hp, attack, defense, special-attack, special-defense, speed`) ¿Cuáles son los valores mínimo y máximo de esta nueva variable?"
   ]
  },
  {
   "cell_type": "code",
   "execution_count": 136,
   "id": "b54b12d1",
   "metadata": {},
   "outputs": [
    {
     "name": "stdout",
     "output_type": "stream",
     "text": [
      "Columna 'total-stats' creada exitosamente\n",
      "\n",
      "Rango de valores:\n",
      "Valor mínimo: 195\n",
      "Valor máximo: 680\n",
      "Valor promedio: 407.64\n",
      "\n",
      "Pokémon con stats totales más altos:\n",
      "          name     type1   type2  total-stats\n",
      "149     mewtwo   psychic    None          680\n",
      "148  dragonite    dragon  flying          600\n",
      "150        mew   psychic    None          600\n",
      "143   articuno       ice  flying          580\n",
      "144     zapdos  electric  flying          580\n",
      "\n",
      "Pokémon con stats totales más bajos:\n",
      "         name  type1   type2  total-stats\n",
      "9    caterpie    bug    None          195\n",
      "12     weedle    bug  poison          195\n",
      "128  magikarp  water    None          200\n",
      "10    metapod    bug    None          205\n",
      "13     kakuna    bug  poison          205\n"
     ]
    }
   ],
   "source": [
    "# 4.3 Columna total-stats\n",
    "# Crear la columna total-stats\n",
    "df_pokemon['total-stats'] = (df_pokemon['hp'] + df_pokemon['attack'] + \n",
    "                             df_pokemon['defense'] + df_pokemon['special-attack'] + \n",
    "                             df_pokemon['special-defense'] + df_pokemon['speed'])\n",
    "\n",
    "print(\"Columna 'total-stats' creada exitosamente\")\n",
    "print(f\"\\nRango de valores:\")\n",
    "print(f\"Valor mínimo: {df_pokemon['total-stats'].min()}\")\n",
    "print(f\"Valor máximo: {df_pokemon['total-stats'].max()}\")\n",
    "print(f\"Valor promedio: {df_pokemon['total-stats'].mean():.2f}\")\n",
    "\n",
    "# Mostrar los pokémones con stats totales más altos y más bajos\n",
    "print(\"\\nPokémon con stats totales más altos:\")\n",
    "top_stats = df_pokemon.nlargest(5, 'total-stats')[['name', 'type1', 'type2', 'total-stats']]\n",
    "print(top_stats)\n",
    "\n",
    "print(\"\\nPokémon con stats totales más bajos:\")\n",
    "bottom_stats = df_pokemon.nsmallest(5, 'total-stats')[['name', 'type1', 'type2', 'total-stats']]\n",
    "print(bottom_stats)"
   ]
  },
  {
   "cell_type": "markdown",
   "id": "b7f34ada",
   "metadata": {},
   "source": [
    "El valor máximo lo tiene: Mewtwo (total-stats: 680)\n",
    "y el mínimo lo tiene: Caterpie (total-stats: 195)"
   ]
  },
  {
   "cell_type": "markdown",
   "id": "e098861c",
   "metadata": {},
   "source": [
    "#### 4.4 Grafique un histograma de `total-stats` y comente brevemente lo que observa de la distribución de este atributo."
   ]
  },
  {
   "cell_type": "code",
   "execution_count": null,
   "id": "74fab9f7",
   "metadata": {},
   "outputs": [
    {
     "ename": "ModuleNotFoundError",
     "evalue": "No module named 'matplotlib'",
     "output_type": "error",
     "traceback": [
      "\u001b[1;31m---------------------------------------------------------------------------\u001b[0m",
      "\u001b[1;31mModuleNotFoundError\u001b[0m                       Traceback (most recent call last)",
      "Cell \u001b[1;32mIn[138], line 1\u001b[0m\n\u001b[1;32m----> 1\u001b[0m \u001b[38;5;28;01mimport\u001b[39;00m \u001b[38;5;21;01mmatplotlib\u001b[39;00m\u001b[38;5;21;01m.\u001b[39;00m\u001b[38;5;21;01mpyplot\u001b[39;00m \u001b[38;5;28;01mas\u001b[39;00m \u001b[38;5;21;01mplt\u001b[39;00m\n",
      "\u001b[1;31mModuleNotFoundError\u001b[0m: No module named 'matplotlib'"
     ]
    }
   ],
   "source": [
    "import matplotlib.pyplot as plt\n",
    "\n",
    "\n",
    "\n"
   ]
  },
  {
   "cell_type": "markdown",
   "id": "e8ab882d",
   "metadata": {},
   "source": [
    "Descripción:"
   ]
  }
 ],
 "metadata": {
  "kernelspec": {
   "display_name": "Python 3",
   "language": "python",
   "name": "python3"
  },
  "language_info": {
   "codemirror_mode": {
    "name": "ipython",
    "version": 3
   },
   "file_extension": ".py",
   "mimetype": "text/x-python",
   "name": "python",
   "nbconvert_exporter": "python",
   "pygments_lexer": "ipython3",
   "version": "3.11.9"
  }
 },
 "nbformat": 4,
 "nbformat_minor": 5
}
